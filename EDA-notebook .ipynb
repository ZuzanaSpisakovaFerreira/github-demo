{
  "cells": [
    {
      "cell_type": "code",
      "execution_count": null,
      "id": "0bee8a73",
      "metadata": {
        "vscode": {
          "languageId": "plaintext"
        },
        "id": "0bee8a73"
      },
      "outputs": [],
      "source": [
        "import seaboarn as sns\n",
        "data =pd.read_csv ('train.csv')"
      ]
    }
  ],
  "metadata": {
    "language_info": {
      "name": "python"
    },
    "colab": {
      "provenance": []
    },
    "kernelspec": {
      "name": "python3",
      "display_name": "Python 3"
    }
  },
  "nbformat": 4,
  "nbformat_minor": 5
}